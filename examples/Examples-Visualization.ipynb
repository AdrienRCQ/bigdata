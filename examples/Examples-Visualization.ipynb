{
 "cells": [
  {
   "cell_type": "code",
   "execution_count": null,
   "id": "eb959427",
   "metadata": {},
   "outputs": [],
   "source": [
    "import urllib.request\n",
    "import json\n",
    "import pandas as pd\n",
    "\n",
    "propertyid = \"Property:P10001\"\n",
    "url = (\n",
    "    \"https://www.wikidata.org/w/api.php?action=query&prop=revisions&titles=\"\n",
    "    + propertyid\n",
    "    + \"&rvprop=timestamp|comment|ids&rvlimit=500&format=json\"\n",
    ")\n",
    "response = urllib.request.urlopen(url)\n",
    "responsedata = json.loads(response.read().decode(\"utf-8\"))"
   ]
  },
  {
   "cell_type": "code",
   "execution_count": null,
   "id": "448ded27",
   "metadata": {},
   "outputs": [],
   "source": [
    "array = []\n",
    "\n",
    "for data in responsedata[\"query\"][\"pages\"]:\n",
    "    for revision in responsedata[\"query\"][\"pages\"][data][\"revisions\"]:\n",
    "        print(revision.keys())\n",
    "        break"
   ]
  },
  {
   "cell_type": "code",
   "execution_count": null,
   "id": "c3b5ad42-bc2f-488d-9c83-f576a437155b",
   "metadata": {},
   "outputs": [],
   "source": [
    "result = list(responsedata[\"query\"][\"pages\"].values())[0]\n",
    "revisions = result[\"revisions\"]\n",
    "revision = result[\"revisions\"][0].keys()\n",
    "revision"
   ]
  },
  {
   "cell_type": "code",
   "execution_count": null,
   "id": "04087b61",
   "metadata": {},
   "outputs": [],
   "source": [
    "array = []\n",
    "\n",
    "for revision in revisions:\n",
    "    array.append([revision[\"timestamp\"], revision[\"comment\"]])"
   ]
  },
  {
   "cell_type": "code",
   "execution_count": null,
   "id": "d30e6fa3",
   "metadata": {},
   "outputs": [],
   "source": [
    "array[:1]"
   ]
  },
  {
   "cell_type": "code",
   "execution_count": null,
   "id": "f4aafcfa",
   "metadata": {},
   "outputs": [],
   "source": [
    "dataframe = pd.DataFrame(array, columns=[\"timestamp\", \"modification\"])\n",
    "dataframe = dataframe.astype(\n",
    "    dtype={\"timestamp\": \"datetime64[ns]\", \"modification\": \"<U1000\"}\n",
    ")\n",
    "\n",
    "dataframe[\"timestamp\"] = pd.to_datetime(dataframe[\"timestamp\"]).dt.date\n",
    "dataframe[\"timestamp\"] = pd.to_datetime(dataframe[\"timestamp\"], format=\"%Y-%m-%d\")\n",
    "dataframe"
   ]
  },
  {
   "cell_type": "code",
   "execution_count": null,
   "id": "023886eb",
   "metadata": {},
   "outputs": [],
   "source": [
    "group = dataframe.groupby(\"timestamp\").agg(\"count\").reset_index()\n",
    "group"
   ]
  },
  {
   "cell_type": "code",
   "execution_count": null,
   "id": "bf0219c3",
   "metadata": {},
   "outputs": [],
   "source": [
    "group.describe()"
   ]
  },
  {
   "cell_type": "code",
   "execution_count": null,
   "id": "2ac71c5d",
   "metadata": {},
   "outputs": [],
   "source": [
    "group.dtypes"
   ]
  },
  {
   "cell_type": "code",
   "execution_count": null,
   "id": "1a3b9b00",
   "metadata": {},
   "outputs": [],
   "source": [
    "group.modification.max()"
   ]
  },
  {
   "cell_type": "code",
   "execution_count": null,
   "id": "c3aa6857",
   "metadata": {},
   "outputs": [],
   "source": [
    "group.modification.min()"
   ]
  },
  {
   "cell_type": "code",
   "execution_count": null,
   "id": "be231ad0",
   "metadata": {},
   "outputs": [],
   "source": [
    "from plotly_calplot import calplot  # creating a calendar plot\n",
    "\n",
    "fig = calplot(\n",
    "    group, x=\"timestamp\", years_title=True, y=\"modification\", colorscale=\"blues\", gap=0\n",
    ")\n",
    "fig.show()"
   ]
  },
  {
   "cell_type": "code",
   "execution_count": null,
   "id": "838fb08f",
   "metadata": {},
   "outputs": [],
   "source": [
    "from plotly_calplot import calplot  # creating a calendar plot\n",
    "\n",
    "fig = calplot(\n",
    "    group,\n",
    "    x=\"timestamp\",\n",
    "    dark_theme=True,\n",
    "    years_title=True,\n",
    "    y=\"modification\",\n",
    "    colorscale=\"blues\",\n",
    "    gap=0,\n",
    ")\n",
    "fig.show()"
   ]
  },
  {
   "cell_type": "code",
   "execution_count": null,
   "id": "3dd673a8",
   "metadata": {},
   "outputs": [],
   "source": [
    "import plotly.express as px\n",
    "\n",
    "fig = px.histogram(\n",
    "    group,\n",
    "    x=\"timestamp\",\n",
    "    y=\"modification\",\n",
    "    nbins=20,\n",
    "    labels={\"x\": \"month\", \"y\": \"count\"},\n",
    ")\n",
    "fig.update_layout(bargap=0.2)\n",
    "fig.show()"
   ]
  },
  {
   "cell_type": "code",
   "execution_count": null,
   "id": "18cd109a",
   "metadata": {},
   "outputs": [],
   "source": [
    "import plotly.express as px\n",
    "\n",
    "fig = px.scatter(\n",
    "    group, x=\"timestamp\", y=\"modification\", labels={\"x\": \"month\", \"y\": \"count\"}\n",
    ")\n",
    "fig.update_layout(bargap=0.2)\n",
    "fig.show()"
   ]
  },
  {
   "cell_type": "code",
   "execution_count": null,
   "id": "ea2b12df",
   "metadata": {},
   "outputs": [],
   "source": [
    "import plotly.express as px\n",
    "\n",
    "fig = px.histogram(group, x=\"modification\", histnorm=\"probability density\", nbins=20)\n",
    "fig.update_layout(bargap=0.2)\n",
    "fig.show()"
   ]
  },
  {
   "cell_type": "code",
   "execution_count": null,
   "id": "b7b23cea",
   "metadata": {},
   "outputs": [],
   "source": []
  }
 ],
 "metadata": {
  "kernelspec": {
   "display_name": "Python 3",
   "language": "python",
   "name": "python3"
  },
  "language_info": {
   "codemirror_mode": {
    "name": "ipython",
    "version": 3
   },
   "file_extension": ".py",
   "mimetype": "text/x-python",
   "name": "python",
   "nbconvert_exporter": "python",
   "pygments_lexer": "ipython3",
   "version": "3.8.10"
  }
 },
 "nbformat": 4,
 "nbformat_minor": 5
}
