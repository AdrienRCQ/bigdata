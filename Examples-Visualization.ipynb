{
 "cells": [
  {
   "cell_type": "code",
   "execution_count": null,
   "id": "cee9103a",
   "metadata": {},
   "outputs": [],
   "source": [
    "import urllib.request\n",
    "import json\n",
    "import pandas as pd\n",
    "\n",
    "url=\"https://www.wikidata.org/w/api.php?action=query&prop=revisions&titles=Property:P856&rvprop=timestamp|comment|ids&rvlimit=500&format=json\"\n",
    "response = urllib.request.urlopen(url)\n",
    "responsedata =  json.loads(response.read().decode('utf-8'))"
   ]
  },
  {
   "cell_type": "code",
   "execution_count": null,
   "id": "b904ea9d",
   "metadata": {},
   "outputs": [],
   "source": [
    "array = []\n",
    "\n",
    "for data in responsedata['query']['pages']:\n",
    "    for revision in responsedata['query']['pages'][data][\"revisions\"]:\n",
    "            print(revision.keys())\n",
    "            break"
   ]
  },
  {
   "cell_type": "code",
   "execution_count": null,
   "id": "81800fd2",
   "metadata": {},
   "outputs": [],
   "source": [
    "array = []\n",
    "\n",
    "for data in responsedata['query']['pages']:\n",
    "    for revision in responsedata['query']['pages'][data][\"revisions\"]:\n",
    "            array.append([revision['timestamp'],revision['comment']])"
   ]
  },
  {
   "cell_type": "code",
   "execution_count": null,
   "id": "754f968e",
   "metadata": {},
   "outputs": [],
   "source": [
    "dataframe = pd.DataFrame(array,\n",
    "     columns=['timestamp', 'modification'])\n",
    "dataframe = dataframe.astype(dtype= {\"timestamp\":'datetime64[ns]',\n",
    "     \"modification\":\"<U1000\"})\n",
    "\n",
    "dataframe['timestamp'] = pd.to_datetime(dataframe['timestamp']).dt.date\n",
    "dataframe['timestamp'] = pd.to_datetime(dataframe['timestamp'], format='%Y-%m-%d')\n",
    "\n",
    "group = dataframe.groupby(\"timestamp\").agg(\"count\").reset_index()\n",
    "group"
   ]
  },
  {
   "cell_type": "code",
   "execution_count": null,
   "id": "0bdcfbd0",
   "metadata": {},
   "outputs": [],
   "source": [
    "print(group.dtypes)"
   ]
  },
  {
   "cell_type": "code",
   "execution_count": null,
   "id": "5564016e",
   "metadata": {},
   "outputs": [],
   "source": [
    "from plotly_calplot import calplot# creating the plot\n",
    "fig = calplot(\n",
    "         group,\n",
    "         x=\"timestamp\",\n",
    "         years_title = True,\n",
    "         y=\"modification\",\n",
    "         colorscale=\"blues\",\n",
    "         gap = 0\n",
    ")\n",
    "fig.show()"
   ]
  },
  {
   "cell_type": "code",
   "execution_count": null,
   "id": "e3405ffc",
   "metadata": {},
   "outputs": [],
   "source": [
    "from plotly_calplot import calplot# creating the plot\n",
    "fig = calplot(\n",
    "         group,\n",
    "         x=\"timestamp\",\n",
    "         dark_theme = True,\n",
    "         years_title = True,\n",
    "         y=\"modification\",\n",
    "         colorscale=\"blues\",\n",
    "         gap = 0\n",
    ")\n",
    "fig.show()"
   ]
  },
  {
   "cell_type": "code",
   "execution_count": null,
   "id": "3bccef3e",
   "metadata": {},
   "outputs": [],
   "source": [
    "import plotly.express as px\n",
    "\n",
    "fig = px.histogram(group, x=\"timestamp\", y=\"modification\", nbins=20, labels={'x':'month', 'y':'count'})\n",
    "fig.update_layout(bargap=0.2)\n",
    "fig.show()"
   ]
  },
  {
   "cell_type": "code",
   "execution_count": null,
   "id": "1602cc73",
   "metadata": {},
   "outputs": [],
   "source": [
    "import plotly.express as px\n",
    "\n",
    "fig = px.scatter(group, x=\"timestamp\", y=\"modification\", labels={'x':'month', 'y':'count'})\n",
    "fig.update_layout(bargap=0.2)\n",
    "fig.show()"
   ]
  },
  {
   "cell_type": "code",
   "execution_count": null,
   "id": "ec620d77",
   "metadata": {},
   "outputs": [],
   "source": [
    "import plotly.express as px\n",
    "\n",
    "fig = px.histogram(group, x=\"modification\", histnorm='probability density',\n",
    "                   nbins=20)\n",
    "fig.update_layout(bargap=0.2)\n",
    "fig.show()"
   ]
  }
 ],
 "metadata": {
  "kernelspec": {
   "display_name": "Python 3",
   "language": "python",
   "name": "python3"
  },
  "language_info": {
   "codemirror_mode": {
    "name": "ipython",
    "version": 3
   },
   "file_extension": ".py",
   "mimetype": "text/x-python",
   "name": "python",
   "nbconvert_exporter": "python",
   "pygments_lexer": "ipython3",
   "version": "3.8.10"
  }
 },
 "nbformat": 4,
 "nbformat_minor": 5
}
