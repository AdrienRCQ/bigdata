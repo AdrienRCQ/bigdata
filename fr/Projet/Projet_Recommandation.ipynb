{
 "cells": [
  {
   "cell_type": "markdown",
   "metadata": {},
   "source": [
    "### Système de recommandation\n",
    "\n",
    "Êtes-vous maintenant prêt à recommander des images à un utilisateur ? Dans cette tâche, votre objectif est de construire le système de recommandation. Quelle approche avez-vous décidé de prendre ? Filtrage collaboratif, basé sur le contenu ou une approche hybride ? Pour chaque utilisateur, êtes-vous maintenant en mesure de construire une profil ? Quel type d'information avez-vous utilisé pour établir un profil d'utilisateur profil ? Qu'est-ce qui manque ? Quelles sont les limites de votre proposition ?\n",
    "\n",
    "\n",
    "#### Réponses\n",
    "Nous avons les prérequis nécessaires au système de recommandation, notamment un système d'utilisateurs avec leurs préférences, un système de tagging d'images, de propriétés d'images, et leur analyse statistique. Nous avons décidé de nous baser sur un système de double filtrage pour la recommandation en se basant sur une participation de l'utilisateur qui doit indiquer sur un ensemble d'images ce qu'il aime ou non. Il aura la possibilité de continuer autant qu'il le souhaite (et dans la limite des images disponibles) afin d'améliorer toujours plus la précision.\n",
    "\n",
    "Le double filtrage fera usage d'un système de clustering pour prédire les tags et propriétés recommandés pour l'utilisateur, nous déterminerons ensuite un ensemble d'images qui possède les propriétés et tags les plus proches possible. Enfin nous soumettrons cette sélection d'image à un algorithme de classification afin de déterminer si parmi ces dernières, une image serait détectée comme potentiellement inadaptée aux goûts de l'utilisateur."
   ]
  },
  {
   "cell_type": "code",
   "execution_count": null,
   "metadata": {},
   "outputs": [],
   "source": []
  }
 ],
 "metadata": {
  "language_info": {
   "name": "python"
  }
 },
 "nbformat": 4,
 "nbformat_minor": 2
}
