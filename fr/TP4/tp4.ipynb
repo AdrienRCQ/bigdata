{
 "cells": [
  {
   "cell_type": "markdown",
   "metadata": {},
   "source": [
    "# TP 4\n",
    "\n",
    "## Objectifs\n",
    "\n",
    "### Travail sur les fonctions Python intégrées\n",
    "1. map()\n",
    "2. filter()\n",
    "3. reduce()\n",
    "\n",
    "\n",
    "### Multiprocessus\n",
    "1. multiprocessing.cpu_count\n",
    "2. multiprocessing.Pool\n",
    "3. map"
   ]
  },
  {
   "cell_type": "markdown",
   "metadata": {},
   "source": [
    "## Exercice 1 \\[★\\]\n",
    "\n",
    "Dans cet exercice, nous allons examiner la fonction intégrée de Python appelée filter() qui peut être utilisée pour sélectionner les éléments d'une collection correspondant à une condition particulière."
   ]
  },
  {
   "cell_type": "code",
   "execution_count": 1,
   "metadata": {},
   "outputs": [
    {
     "name": "stdout",
     "output_type": "stream",
     "text": [
      "[1, 2, 3, 4, 5, 6, 7, 8, 9, 10, 11, 12, 13, 14, 15, 16, 17, 18, 19]\n"
     ]
    }
   ],
   "source": [
    "# Initialization\n",
    "num = [i for i in range(1, 20)]\n",
    "print(num)"
   ]
  },
  {
   "cell_type": "markdown",
   "metadata": {},
   "source": [
    "Nous utiliserons la documentation disponible pour les différentes fonctions. \n",
    "Dans ce but, nous utiliserons un point d'interrogation (?) après le nom de la fonction ou d'une classe \n",
    "comme indiqué ci-dessous."
   ]
  },
  {
   "cell_type": "code",
   "execution_count": 18,
   "metadata": {},
   "outputs": [
    {
     "name": "stdout",
     "output_type": "stream",
     "text": [
      "\u001b[1;31mInit signature:\u001b[0m \u001b[0mfilter\u001b[0m\u001b[1;33m(\u001b[0m\u001b[0mself\u001b[0m\u001b[1;33m,\u001b[0m \u001b[1;33m/\u001b[0m\u001b[1;33m,\u001b[0m \u001b[1;33m*\u001b[0m\u001b[0margs\u001b[0m\u001b[1;33m,\u001b[0m \u001b[1;33m**\u001b[0m\u001b[0mkwargs\u001b[0m\u001b[1;33m)\u001b[0m\u001b[1;33m\u001b[0m\u001b[1;33m\u001b[0m\u001b[0m\n",
      "\u001b[1;31mDocstring:\u001b[0m     \n",
      "filter(function or None, iterable) --> filter object\n",
      "\n",
      "Return an iterator yielding those items of iterable for which function(item)\n",
      "is true. If function is None, return the items that are true.\n",
      "\u001b[1;31mType:\u001b[0m           type\n",
      "\u001b[1;31mSubclasses:\u001b[0m     "
     ]
    }
   ],
   "source": [
    "?filter"
   ]
  },
  {
   "cell_type": "markdown",
   "metadata": {},
   "source": [
    "La fonction `filter(function, iterable)` prend deux paramètres : une fonction et un itérable. La fonction agit sur chaque élément d'un type de données itérable."
   ]
  },
  {
   "cell_type": "markdown",
   "metadata": {},
   "source": [
    "Dans le premier exemple, nous utilisons `None` comme premier paramètre. Dans ce cas, le filtre agira comme une fonction d'identité et retournera l'itérable."
   ]
  },
  {
   "cell_type": "code",
   "execution_count": 19,
   "metadata": {},
   "outputs": [
    {
     "name": "stdout",
     "output_type": "stream",
     "text": [
      "[1, 2, 3, 4, 5, 6, 7, 8, 9, 10, 11, 12, 13, 14, 15, 16, 17, 18, 19]\n"
     ]
    }
   ],
   "source": [
    "# Use of filter function with None as the first parameter\n",
    "num = [i for i in range(1, 20)]\n",
    "filtered = list(filter(None, num))\n",
    "print(filtered)"
   ]
  },
  {
   "cell_type": "markdown",
   "metadata": {},
   "source": [
    "Dans l'exemple suivant, nous allons filtrer les nombres pairs de la liste d'entrée.\n",
    "Notez que nous avons écrit une fonction even() qui renvoie `True` si le nombre d'entrée est pair, \n",
    "sinon `False`.\n",
    "\n",
    "`filer()` retournera les éléments de la liste qui ont retourné `True`lorsqu'ils ont été passés comme argument à la fonction even()."
   ]
  },
  {
   "cell_type": "code",
   "execution_count": 20,
   "metadata": {},
   "outputs": [
    {
     "name": "stdout",
     "output_type": "stream",
     "text": [
      "[2, 4, 6, 8, 10, 12, 14, 16, 18]\n"
     ]
    }
   ],
   "source": [
    "def even(item):\n",
    "    if item % 2 == 0:\n",
    "        return True\n",
    "    return False\n",
    "\n",
    "\n",
    "num = [i for i in range(1, 20)]\n",
    "filtered = list(filter(even, num))\n",
    "print(filtered)"
   ]
  },
  {
   "cell_type": "markdown",
   "metadata": {},
   "source": [
    "Dans l'exemple suivant, nous avons une nouvelle fonction `odd()` qui renvoie `True` lorsque le nombre en entrée est impair.\n",
    "\n",
    "Nous utilisons cette nouvelle fonction comme entrée de la fonction `filter()`."
   ]
  },
  {
   "cell_type": "code",
   "execution_count": 21,
   "metadata": {},
   "outputs": [
    {
     "name": "stdout",
     "output_type": "stream",
     "text": [
      "[1, 3, 5, 7, 9, 11, 13, 15, 17, 19]\n"
     ]
    }
   ],
   "source": [
    "def odd(item):\n",
    "    if item % 2 == 0:\n",
    "        return False\n",
    "    return True\n",
    "\n",
    "\n",
    "num = [i for i in range(1, 20)]\n",
    "filtered = list(filter(odd, num))\n",
    "print(filtered)"
   ]
  },
  {
   "cell_type": "markdown",
   "metadata": {},
   "source": [
    "**Question**  Écrivez un programme utilisant filter() qui prend une liste de chaînes de caractères et filtre les palindromes."
   ]
  },
  {
   "cell_type": "code",
   "execution_count": 1,
   "metadata": {},
   "outputs": [
    {
     "name": "stdout",
     "output_type": "stream",
     "text": [
      "['bob']\n"
     ]
    }
   ],
   "source": [
    "mots = ['toto', 'voiture', 'maison', 'bob']\n",
    "\n",
    "def palindrome (list):\n",
    "    for i in range (len(list)//2):\n",
    "        if list[i] != list[-i-1]:\n",
    "            return False\n",
    "    return True\n",
    "\n",
    "\n",
    "filtred_palindrome = list(filter(palindrome, mots))\n",
    "print(filtred_palindrome)"
   ]
  },
  {
   "cell_type": "markdown",
   "metadata": {},
   "source": [
    "## Exercice 2 \\[★\\]\n",
    "\n",
    "Que faire si nous voulons appliquer la même fonction sur plusieurs éléments d'une liste.\n",
    "\n",
    "Prenons l'exemple suivant : supposons que nous ayons une fonction qui puisse retourner le carré d'un nombre. Nous voulons maintenant appliquer cette fonction à tous les nombres d'une liste. Nous pouvons écrire un programme avec une boucle pour y parvenir. Mais nous allons écrire un programme plus petit pour y parvenir."
   ]
  },
  {
   "cell_type": "markdown",
   "metadata": {},
   "source": [
    "$f(x) = x ^ 2$\n",
    "\n",
    "$g([a,b,...]) = [f(a), f(b), ..]$\n",
    "\n",
    "$g([a,b,...]) = [a^2, b^2, ..]$"
   ]
  },
  {
   "cell_type": "markdown",
   "metadata": {},
   "source": [
    "Python fournit une autre fonction intégrée appelée `map(function, iterable, ...)`."
   ]
  },
  {
   "cell_type": "code",
   "execution_count": 2,
   "metadata": {},
   "outputs": [
    {
     "name": "stdout",
     "output_type": "stream",
     "text": [
      "\u001b[1;31mInit signature:\u001b[0m \u001b[0mmap\u001b[0m\u001b[1;33m(\u001b[0m\u001b[0mself\u001b[0m\u001b[1;33m,\u001b[0m \u001b[1;33m/\u001b[0m\u001b[1;33m,\u001b[0m \u001b[1;33m*\u001b[0m\u001b[0margs\u001b[0m\u001b[1;33m,\u001b[0m \u001b[1;33m**\u001b[0m\u001b[0mkwargs\u001b[0m\u001b[1;33m)\u001b[0m\u001b[1;33m\u001b[0m\u001b[1;33m\u001b[0m\u001b[0m\n",
      "\u001b[1;31mDocstring:\u001b[0m     \n",
      "map(func, *iterables) --> map object\n",
      "\n",
      "Make an iterator that computes the function using arguments from\n",
      "each of the iterables.  Stops when the shortest iterable is exhausted.\n",
      "\u001b[1;31mType:\u001b[0m           type\n",
      "\u001b[1;31mSubclasses:\u001b[0m     "
     ]
    }
   ],
   "source": [
    "?map"
   ]
  },
  {
   "cell_type": "code",
   "execution_count": 4,
   "metadata": {},
   "outputs": [
    {
     "name": "stdout",
     "output_type": "stream",
     "text": [
      "[1, 4, 9, 16, 25, 36, 49, 64, 81, 100, 121, 144, 169, 196, 225, 256, 289, 324, 361]\n"
     ]
    }
   ],
   "source": [
    "def square(item):\n",
    "    return item * item\n",
    "\n",
    "\n",
    "num = [i for i in range(1, 20)]\n",
    "squared = list(map(square, num))\n",
    "print(squared)"
   ]
  },
  {
   "cell_type": "markdown",
   "metadata": {},
   "source": [
    "Mais que faire si notre programme prend plusieurs entrées.\n",
    "\n",
    "L'exemple suivant montre ce cas. La fonction `product()` prend deux nombres en entrée et renvoie leur produit."
   ]
  },
  {
   "cell_type": "code",
   "execution_count": 5,
   "metadata": {},
   "outputs": [
    {
     "name": "stdout",
     "output_type": "stream",
     "text": [
      "[1, 2, 3, 4, 5, 6, 7, 8, 9, 10, 11, 12, 13, 14, 15, 16, 17, 18, 19]\n",
      "[10, 11, 12, 13, 14, 15, 16, 17, 18, 19]\n",
      "[10, 22, 36, 52, 70, 90, 112, 136, 162, 190]\n"
     ]
    }
   ],
   "source": [
    "def product(item1, item2):\n",
    "    return item1 * item2\n",
    "\n",
    "\n",
    "num1 = [i for i in range(1, 20)]\n",
    "print(num1)\n",
    "num2 = [i for i in range(10, 20)]\n",
    "print(num2)\n",
    "product_value = list(map(product, num1, num2))\n",
    "print(product_value)"
   ]
  },
  {
   "cell_type": "markdown",
   "metadata": {},
   "source": [
    "Enfin, nous examinons une autre fonction appelée reduce() qui applique une fonction de deux arguments de manière cumulative sur les membres de la liste, de gauche à droite."
   ]
  },
  {
   "cell_type": "markdown",
   "metadata": {},
   "source": [
    "$f(x) = x ^ 2$\n",
    "\n",
    "$g([a,b,...]) = [f(a), f(b), ..]$\n",
    "\n",
    "$g([a,b,...]) = [a^2, b^2, ..]$\n",
    "\n",
    "$h(g([a,b,c,..])) = (((a^2 + b^2) + c^2) + ...) $ "
   ]
  },
  {
   "cell_type": "code",
   "execution_count": 6,
   "metadata": {},
   "outputs": [
    {
     "name": "stdout",
     "output_type": "stream",
     "text": [
      "\u001b[1;31mDocstring:\u001b[0m\n",
      "reduce(function, iterable[, initial]) -> value\n",
      "\n",
      "Apply a function of two arguments cumulatively to the items of a sequence\n",
      "or iterable, from left to right, so as to reduce the iterable to a single\n",
      "value.  For example, reduce(lambda x, y: x+y, [1, 2, 3, 4, 5]) calculates\n",
      "((((1+2)+3)+4)+5).  If initial is present, it is placed before the items\n",
      "of the iterable in the calculation, and serves as a default when the\n",
      "iterable is empty.\n",
      "\u001b[1;31mType:\u001b[0m      builtin_function_or_method"
     ]
    }
   ],
   "source": [
    "from functools import reduce\n",
    "\n",
    "?reduce"
   ]
  },
  {
   "cell_type": "markdown",
   "metadata": {},
   "source": [
    "Dans l'exemple suivant, nous calculons la somme des membres d'une liste.\n",
    "\n",
    "Nous passons la fonction sum_num() comme premier argument à la fonction reduce. sum_num() prend deux nombres en entrée et renvoie leur nombre."
   ]
  },
  {
   "cell_type": "code",
   "execution_count": 7,
   "metadata": {},
   "outputs": [
    {
     "name": "stdout",
     "output_type": "stream",
     "text": [
      "[1, 2, 3, 4, 5, 6, 7, 8, 9, 10, 11, 12, 13, 14, 15, 16, 17, 18, 19]\n",
      "190\n"
     ]
    }
   ],
   "source": [
    "from functools import reduce\n",
    "import random\n",
    "\n",
    "\n",
    "def sum_num(item1, item2):\n",
    "    return item1 + item2\n",
    "\n",
    "\n",
    "num = [i for i in range(1, 20)]\n",
    "print(num)\n",
    "\n",
    "sum_value = reduce(sum_num, num)\n",
    "print(sum_value)"
   ]
  },
  {
   "cell_type": "markdown",
   "metadata": {},
   "source": [
    "Dans l'exemple suivant, nous utilisons la même fonction sum_num(), mais sur des nombres réels."
   ]
  },
  {
   "cell_type": "code",
   "execution_count": 8,
   "metadata": {},
   "outputs": [
    {
     "name": "stdout",
     "output_type": "stream",
     "text": [
      "[0.6820399902841366, 0.4745606736665726, 1.173589152603899, 2.4322301689649186, 3.9961322272046775, 4.306202087207684, 2.0736743974240586, 3.6541233068408756, 2.5518443722947963, 3.8771303630787246, 0.7672972613103624, 7.032070581220683, 10.501162135484334, 0.33523575811036976, 2.3812571831942435, 5.958841910245662, 5.961513021852829, 2.316430226333342, 0.29484638180753464]\n",
      "60.770181199129695\n"
     ]
    }
   ],
   "source": [
    "num = [random.uniform(0, i) for i in range(1, 20)]\n",
    "print(num)\n",
    "sum_value = reduce(sum_num, num)\n",
    "print(sum_value)"
   ]
  },
  {
   "cell_type": "markdown",
   "metadata": {},
   "source": [
    "Dans l'exemple suivant, nous utilisons une autre fonction product()."
   ]
  },
  {
   "cell_type": "code",
   "execution_count": 9,
   "metadata": {},
   "outputs": [
    {
     "name": "stdout",
     "output_type": "stream",
     "text": [
      "[1, 2, 3, 4, 5, 6, 7, 8, 9, 10, 11, 12, 13, 14, 15, 16, 17, 18, 19]\n",
      "121645100408832000\n"
     ]
    }
   ],
   "source": [
    "from functools import reduce\n",
    "\n",
    "\n",
    "def product(item1, item2):\n",
    "    return item1 * item2\n",
    "\n",
    "\n",
    "num = [i for i in range(1, 20)]\n",
    "print(num)\n",
    "sum_num = reduce(product, num)\n",
    "print(sum_num)"
   ]
  },
  {
   "cell_type": "markdown",
   "metadata": {},
   "source": [
    "**Question**: Écrivez un programme qui prend une liste de matrices de taille 2x2 et calcule la somme de toutes les matrices."
   ]
  },
  {
   "cell_type": "code",
   "execution_count": 12,
   "metadata": {},
   "outputs": [
    {
     "name": "stdout",
     "output_type": "stream",
     "text": [
      "[[4, 6], [6, 4]]\n"
     ]
    }
   ],
   "source": [
    "from functools import reduce\n",
    "\n",
    "matrice1 = [[1,2],[2,1]]\n",
    "matrice2 = [[3,4],[4,3]]\n",
    "all_matrice = [matrice1, matrice2]\n",
    "\n",
    "resultat = [[0,0],[0,0]]\n",
    "\n",
    "def add_matrices(mat1, mat2):\n",
    "    for row in range(len(mat1)):\n",
    "        for column in range(len(mat1[0])):\n",
    "            resultat[row][column] = mat1[row][column] + mat2[row][column]\n",
    "    return resultat\n",
    "\n",
    "sum_matrice = reduce(add_matrices, all_matrice)\n",
    "print(sum_matrice)\n"
   ]
  },
  {
   "cell_type": "markdown",
   "metadata": {},
   "source": [
    "## Exercice 3 \\[★★\\]\n",
    "\n",
    "Dans les exemples suivants, nous utilisons des expressions lambda et les passons comme arguments aux fonctions filter(), map(), et reduce().\n",
    "\n",
    "Dans l'exemple suivant, l'expression lambda `lambda x : x%2` prend x en entrée et retourne la valeur de `x%2`. Cette approche est similaire à celle que nous avons vue ci-dessus avec la fonction even()."
   ]
  },
  {
   "cell_type": "code",
   "execution_count": 13,
   "metadata": {},
   "outputs": [
    {
     "name": "stdout",
     "output_type": "stream",
     "text": [
      "[2, 4, 6, 8, 10, 12, 14, 16, 18]\n"
     ]
    }
   ],
   "source": [
    "num = [i for i in range(1, 20)]\n",
    "filtered = list(filter(lambda x: x % 2 == 0, num))\n",
    "print(filtered)"
   ]
  },
  {
   "cell_type": "markdown",
   "metadata": {},
   "source": [
    "Dans l'exemple suivant, nous prenons l'exemple avec la fonction odd() et le remplaçons par une expression lambda."
   ]
  },
  {
   "cell_type": "code",
   "execution_count": 14,
   "metadata": {},
   "outputs": [
    {
     "name": "stdout",
     "output_type": "stream",
     "text": [
      "[1, 3, 5, 7, 9, 11, 13, 15, 17, 19]\n"
     ]
    }
   ],
   "source": [
    "num = [i for i in range(1, 20)]\n",
    "filtered = list(filter(lambda x: x % 2 != 0, num))\n",
    "print(filtered)"
   ]
  },
  {
   "cell_type": "markdown",
   "metadata": {},
   "source": [
    "Dans l'exemple suivant, nous prenons l'exemple avec la fonction square() et le remplaçons par une expression lambda."
   ]
  },
  {
   "cell_type": "code",
   "execution_count": 15,
   "metadata": {},
   "outputs": [
    {
     "name": "stdout",
     "output_type": "stream",
     "text": [
      "[2, 4, 6, 8, 10, 12, 14, 16, 18, 20, 22, 24, 26, 28, 30, 32, 34, 36, 38]\n"
     ]
    }
   ],
   "source": [
    "num = [i for i in range(1, 20)]\n",
    "squared = list(map(lambda x: x * 2, num))\n",
    "print(squared)"
   ]
  },
  {
   "cell_type": "markdown",
   "metadata": {},
   "source": [
    "Et si nous voulons passer deux arguments, comme dans l'exemple product() ci-dessus."
   ]
  },
  {
   "cell_type": "code",
   "execution_count": 16,
   "metadata": {},
   "outputs": [
    {
     "name": "stdout",
     "output_type": "stream",
     "text": [
      "[1, 2, 3, 4, 5, 6, 7, 8, 9, 10, 11, 12, 13, 14, 15, 16, 17, 18, 19]\n",
      "[10, 11, 12, 13, 14, 15, 16, 17, 18, 19]\n",
      "[10, 22, 36, 52, 70, 90, 112, 136, 162, 190]\n"
     ]
    }
   ],
   "source": [
    "num1 = [i for i in range(1, 20)]\n",
    "print(num1)\n",
    "num2 = [i for i in range(10, 20)]\n",
    "print(num2)\n",
    "product = list(map(lambda x, y: x * y, num1, num2))\n",
    "print(product)"
   ]
  },
  {
   "cell_type": "markdown",
   "metadata": {},
   "source": [
    "Dans les exemples suivants, nous utilisons l'expression lambda avec la fonction reduce()."
   ]
  },
  {
   "cell_type": "code",
   "execution_count": 17,
   "metadata": {},
   "outputs": [
    {
     "name": "stdout",
     "output_type": "stream",
     "text": [
      "[1, 2, 3, 4, 5, 6, 7, 8, 9, 10, 11, 12, 13, 14, 15, 16, 17, 18, 19]\n",
      "190\n"
     ]
    }
   ],
   "source": [
    "from functools import reduce\n",
    "import random\n",
    "\n",
    "num = [i for i in range(1, 20)]\n",
    "print(num)\n",
    "\n",
    "sum_value = reduce(lambda x, y: x + y, num)\n",
    "print(sum_value)"
   ]
  },
  {
   "cell_type": "markdown",
   "metadata": {},
   "source": [
    "Comme dans l'exemple avec sum_num(), nous testons des nombres réels avec les expressions lambda."
   ]
  },
  {
   "cell_type": "code",
   "execution_count": 18,
   "metadata": {},
   "outputs": [
    {
     "name": "stdout",
     "output_type": "stream",
     "text": [
      "[1, 2, 3, 4, 5, 6, 7, 8, 9, 10, 11, 12, 13, 14, 15, 16, 17, 18, 19]\n",
      "190\n"
     ]
    }
   ],
   "source": [
    "from functools import reduce\n",
    "import random\n",
    "\n",
    "num = [i for i in range(1, 20)]\n",
    "print(num)\n",
    "\n",
    "sum_value = reduce(lambda x, y: x + y, num)\n",
    "print(sum_value)"
   ]
  },
  {
   "cell_type": "markdown",
   "metadata": {},
   "source": [
    "Maintenant, nous remplaçons le produit() par une expression lambda."
   ]
  },
  {
   "cell_type": "code",
   "execution_count": 19,
   "metadata": {},
   "outputs": [
    {
     "name": "stdout",
     "output_type": "stream",
     "text": [
      "[1, 2, 3, 4, 5, 6, 7, 8, 9, 10, 11, 12, 13, 14, 15, 16, 17, 18, 19]\n",
      "121645100408832000\n"
     ]
    }
   ],
   "source": [
    "from functools import reduce\n",
    "import random\n",
    "\n",
    "num = [i for i in range(1, 20)]\n",
    "print(num)\n",
    "\n",
    "product_value = reduce(lambda x, y: x * y, num)\n",
    "print(product_value)"
   ]
  },
  {
   "cell_type": "markdown",
   "metadata": {},
   "source": [
    "**Question** Écrivez un programme utilisant map(), reduce() et des expressions lambda pour compter la longueur totale de toutes les chaînes de caractères dans une liste."
   ]
  },
  {
   "cell_type": "code",
   "execution_count": 1,
   "metadata": {},
   "outputs": [
    {
     "name": "stdout",
     "output_type": "stream",
     "text": [
      "[4, 7, 6, 3]\n",
      "20\n"
     ]
    }
   ],
   "source": [
    "from functools import reduce\n",
    "\n",
    "mots = ['toto', 'voiture', 'maison', 'bob']\n",
    "\n",
    "\n",
    "len_map = list(map(lambda x: len(x) , mots))\n",
    "len_reduce = reduce(lambda x, y: x+y, len_map)\n",
    "\n",
    "print(len_map)\n",
    "print(len_reduce)"
   ]
  },
  {
   "cell_type": "markdown",
   "metadata": {},
   "source": [
    "## Exercice 4 \\[★★\\]\n",
    "\n",
    "Nous voulons utiliser le multitraitement pour calculer les valeurs en parallèle.\n",
    "Pour ce faire, nous utiliserons le paquet multiprocessing. \n",
    "\n",
    "D'abord nous trouvons le nombre de processeurs dans notre machine.."
   ]
  },
  {
   "cell_type": "code",
   "execution_count": 2,
   "metadata": {},
   "outputs": [
    {
     "name": "stdout",
     "output_type": "stream",
     "text": [
      "\u001b[1;31mSignature:\u001b[0m \u001b[0mmp\u001b[0m\u001b[1;33m.\u001b[0m\u001b[0mcpu_count\u001b[0m\u001b[1;33m(\u001b[0m\u001b[1;33m)\u001b[0m\u001b[1;33m\u001b[0m\u001b[1;33m\u001b[0m\u001b[0m\n",
      "\u001b[1;31mDocstring:\u001b[0m Returns the number of CPUs in the system\n",
      "\u001b[1;31mFile:\u001b[0m      c:\\program files\\windowsapps\\pythonsoftwarefoundation.python.3.11_3.11.2544.0_x64__qbz5n2kfra8p0\\lib\\multiprocessing\\context.py\n",
      "\u001b[1;31mType:\u001b[0m      method"
     ]
    }
   ],
   "source": [
    "import multiprocessing as mp\n",
    "\n",
    "?mp.cpu_count"
   ]
  },
  {
   "cell_type": "code",
   "execution_count": 26,
   "metadata": {},
   "outputs": [
    {
     "name": "stdout",
     "output_type": "stream",
     "text": [
      "20\n"
     ]
    }
   ],
   "source": [
    "import multiprocessing as mp\n",
    "\n",
    "print(mp.cpu_count())"
   ]
  },
  {
   "cell_type": "markdown",
   "metadata": {},
   "source": [
    "Ensuite, nous allons créer un pool de processus pour le calcul et nous utilisons la méthode Pool()."
   ]
  },
  {
   "cell_type": "code",
   "execution_count": 3,
   "metadata": {},
   "outputs": [
    {
     "name": "stdout",
     "output_type": "stream",
     "text": [
      "\u001b[1;31mSignature:\u001b[0m\n",
      "\u001b[0mmp\u001b[0m\u001b[1;33m.\u001b[0m\u001b[0mPool\u001b[0m\u001b[1;33m(\u001b[0m\u001b[1;33m\n",
      "\u001b[0m    \u001b[0mprocesses\u001b[0m\u001b[1;33m=\u001b[0m\u001b[1;32mNone\u001b[0m\u001b[1;33m,\u001b[0m\u001b[1;33m\n",
      "\u001b[0m    \u001b[0minitializer\u001b[0m\u001b[1;33m=\u001b[0m\u001b[1;32mNone\u001b[0m\u001b[1;33m,\u001b[0m\u001b[1;33m\n",
      "\u001b[0m    \u001b[0minitargs\u001b[0m\u001b[1;33m=\u001b[0m\u001b[1;33m(\u001b[0m\u001b[1;33m)\u001b[0m\u001b[1;33m,\u001b[0m\u001b[1;33m\n",
      "\u001b[0m    \u001b[0mmaxtasksperchild\u001b[0m\u001b[1;33m=\u001b[0m\u001b[1;32mNone\u001b[0m\u001b[1;33m,\u001b[0m\u001b[1;33m\n",
      "\u001b[0m\u001b[1;33m)\u001b[0m\u001b[1;33m\u001b[0m\u001b[1;33m\u001b[0m\u001b[0m\n",
      "\u001b[1;31mDocstring:\u001b[0m Returns a process pool object\n",
      "\u001b[1;31mFile:\u001b[0m      c:\\program files\\windowsapps\\pythonsoftwarefoundation.python.3.11_3.11.2544.0_x64__qbz5n2kfra8p0\\lib\\multiprocessing\\context.py\n",
      "\u001b[1;31mType:\u001b[0m      method"
     ]
    }
   ],
   "source": [
    "import multiprocessing as mp\n",
    "\n",
    "?mp.Pool"
   ]
  },
  {
   "cell_type": "markdown",
   "metadata": {},
   "source": [
    "Dans l'exemple suivant, \n",
    "nous créons un pool dont le nombre de processus est égal au nombre de processeurs de notre machine.\n",
    "\n",
    "Regardez comment nous transformons notre exemple précédent de map-reduce dans le contexte du multiprocessus."
   ]
  },
  {
   "cell_type": "code",
   "execution_count": 1,
   "metadata": {},
   "outputs": [
    {
     "data": {
      "text/plain": [
       "'3.11.9 (tags/v3.11.9:de54cf5, Apr  2 2024, 10:12:12) [MSC v.1938 64 bit (AMD64)]'"
      ]
     },
     "execution_count": 1,
     "metadata": {},
     "output_type": "execute_result"
    }
   ],
   "source": [
    "import sys\n",
    "sys.version"
   ]
  },
  {
   "cell_type": "code",
   "execution_count": 1,
   "metadata": {},
   "outputs": [
    {
     "name": "stdout",
     "output_type": "stream",
     "text": [
      "[1, 4, 9, 16, 25, 36, 49, 64, 81, 100, 121, 144, 169, 196, 225, 256, 289, 324, 361]\n",
      "14797530453474819213543604224000000\n"
     ]
    }
   ],
   "source": [
    "from functools import reduce\n",
    "import multiprocessing as mp\n",
    "\n",
    "cpu_number = mp.cpu_count()\n",
    "\n",
    "\n",
    "def squared(x):\n",
    "    return x * x\n",
    "\n",
    "\n",
    "num = [i for i in range(1, 20)]\n",
    "with mp.Pool(processes=2) as pool:\n",
    "    list_squared = list(pool.map(squared, num))\n",
    "    print(list_squared)\n",
    "    #product_value = reduce(lambda x, y: x * y, list_squared)\n",
    "    #print(product_value)"
   ]
  },
  {
   "cell_type": "markdown",
   "metadata": {},
   "source": [
    "Dans l'exemple suivant, nous voulons télécharger un certain nombre de pages en parallèle.\n",
    "Nous passons la fonction download_page() comme entrée à la fonction pool.map(). \n",
    "Le but de la fonction est de télécharger les pages de Wikidata.\n",
    "Vérifiez le résultat du code suivant. \n",
    "\n",
    "Changez le nombre de processus et testez le résultat."
   ]
  },
  {
   "cell_type": "code",
   "execution_count": 2,
   "metadata": {},
   "outputs": [
    {
     "name": "stdout",
     "output_type": "stream",
     "text": [
      "[200, 200, 200, 200, 200, 404]\n"
     ]
    }
   ],
   "source": [
    "import requests\n",
    "import multiprocessing as mp\n",
    "\n",
    "def download_page(item):\n",
    "    r = requests.get(\n",
    "        \"https://www.wikidata.org/wiki/Special:EntityData/\" + item + \".json\"\n",
    "    )\n",
    "    # success\n",
    "    if r.status_code == 200:\n",
    "        with open(item + \".json\", \"w\") as w:\n",
    "            w.write(str(r.json()))\n",
    "        w.close()\n",
    "    return r.status_code\n",
    "\n",
    "\n",
    "process_count = cpu_count\n",
    "pages = [\"Q1\", \"Q2\", \"Q3\", \"Q4\", \"Q5\", \"Q6\"]\n",
    "with mp.Pool(processes=process_count) as pool:\n",
    "    status = pool.map(download_page, pages)\n",
    "    print(status)"
   ]
  },
  {
   "cell_type": "markdown",
   "metadata": {},
   "source": [
    "Maintenant, nous voulons analyser les pages téléchargées. Dans l'exemple suivant, \n",
    "nous comptons le nombre d'URLs contenant \"wikipedia.org\"."
   ]
  },
  {
   "cell_type": "code",
   "execution_count": 1,
   "metadata": {},
   "outputs": [
    {
     "ename": "NameError",
     "evalue": "name 'mp' is not defined",
     "output_type": "error",
     "traceback": [
      "\u001b[1;31m---------------------------------------------------------------------------\u001b[0m",
      "\u001b[1;31mNameError\u001b[0m                                 Traceback (most recent call last)",
      "Cell \u001b[1;32mIn[1], line 16\u001b[0m\n\u001b[0;32m     13\u001b[0m files \u001b[38;5;241m=\u001b[39m os\u001b[38;5;241m.\u001b[39mlistdir(\u001b[38;5;124m\"\u001b[39m\u001b[38;5;124m.\u001b[39m\u001b[38;5;124m\"\u001b[39m)\n\u001b[0;32m     14\u001b[0m json_files \u001b[38;5;241m=\u001b[39m \u001b[38;5;28mlist\u001b[39m(\u001b[38;5;28mfilter\u001b[39m(\u001b[38;5;28;01mlambda\u001b[39;00m f: \u001b[38;5;124m\"\u001b[39m\u001b[38;5;124m.json\u001b[39m\u001b[38;5;124m\"\u001b[39m \u001b[38;5;129;01min\u001b[39;00m f, files))\n\u001b[1;32m---> 16\u001b[0m \u001b[38;5;28;01mwith\u001b[39;00m \u001b[43mmp\u001b[49m\u001b[38;5;241m.\u001b[39mPool(processes\u001b[38;5;241m=\u001b[39mcpu_count) \u001b[38;5;28;01mas\u001b[39;00m pool:\n\u001b[0;32m     17\u001b[0m     counts \u001b[38;5;241m=\u001b[39m pool\u001b[38;5;241m.\u001b[39mmap(analyse_file, json_files)\n\u001b[0;32m     18\u001b[0m     \u001b[38;5;28mprint\u001b[39m(counts)\n",
      "\u001b[1;31mNameError\u001b[0m: name 'mp' is not defined"
     ]
    }
   ],
   "source": [
    "import os\n",
    "\n",
    "\n",
    "def analyse_file(filename):\n",
    "    with open(filename, \"r\") as w:\n",
    "        data = w.read()\n",
    "        tokens = data.split(\",\")\n",
    "        urls = list(filter(lambda w: \"wikipedia.org\" in w, tokens))\n",
    "        return len(urls)\n",
    "    return 0\n",
    "\n",
    "\n",
    "files = os.listdir(\".\")\n",
    "json_files = list(filter(lambda f: \".json\" in f, files))\n",
    "\n",
    "with mp.Pool(processes=cpu_number) as pool:\n",
    "    counts = pool.map(analyse_file, json_files)\n",
    "    print(counts)\n",
    "    total_count = reduce(lambda x, y: x + y, counts)\n",
    "    print(total_count)"
   ]
  },
  {
   "cell_type": "markdown",
   "metadata": {},
   "source": [
    "**Question**: Écrivez un programme qui interroge Wikidata pour obtenir 100 URL d'images de villes et qui \n",
    "    télécharge les images sur votre machine en utilisant multiprocessing et map(). \n",
    "    Le programme doit ensuite analyser chaque image téléchargée et trouver les deux couleurs prédominantes de chaque image, toujours en utilisant multiprocessing et map()."
   ]
  },
  {
   "cell_type": "code",
   "execution_count": 44,
   "metadata": {},
   "outputs": [
    {
     "name": "stdout",
     "output_type": "stream",
     "text": [
      "[403, 403, 403, 403, 403, 403, 403, 403, 403, 403, 403, 403, 403, 403, 403, 403, 403, 403, 403, 403, 403, 403, 403, 403, 403, 200, 403, 403, 403, 403, 403, 200, 200, 403, 403, 403, 403, 403, 403, 403, 403, 403, 403, 403, 403, 403, 403, 403, 403, 403, 403, 200, 403, 403, 403, 403, 403, 403, 403, 403, 403, 403, 403, 403, 403, 403, 403, 403, 403, 403, 403, 403, 403, 403, 403, 200, 403, 403, 403, 403, 403, 403, 403, 403, 403, 403, 403, 403, 403, 403, 403, 403, 403, 403, 403, 403, 403, 200, 403, 403]\n"
     ]
    }
   ],
   "source": [
    "import requests\n",
    "import os\n",
    "# Écrivez un programme qui interroge Wikidata pour obtenir 100 URL d'images de villes et qui télécharge les images sur votre machine\n",
    "\n",
    "def query_wikidata():\n",
    "    # Query Wikidata for city images\n",
    "    url = \"https://query.wikidata.org/sparql\"\n",
    "    query = \"\"\"\n",
    "    SELECT ?image WHERE {\n",
    "      ?city wdt:P31 wd:Q515.\n",
    "      ?city wdt:P18 ?image.\n",
    "    }\n",
    "    LIMIT 100\n",
    "    \"\"\"\n",
    "    headers = {\"Accept\": \"application/sparql-results+json\"}\n",
    "    response = requests.get(url, params={\"query\": query}, headers=headers)\n",
    "    data = response.json()\n",
    "\n",
    "    # Extract image URLs\n",
    "    image_urls = [result[\"image\"][\"value\"] for result in data[\"results\"][\"bindings\"]]\n",
    "\n",
    "    return image_urls\n",
    "\n",
    "\n",
    "def download_image(imageurl):\n",
    "    response = requests.get(imageurl)\n",
    "    \n",
    "    name = imageurl.split(\"/\")[-1]\n",
    "    image_path = f\"city_images/{name}.jpg\"\n",
    "    \n",
    "    with open(image_path, \"wb\") as file:\n",
    "        file.write(response.content)\n",
    "        \n",
    "    return response.status_code\n",
    "\n",
    "# Query Wikidata for city images\n",
    "image_urls = query_wikidata()\n",
    "\n",
    "os.makedirs(\"city_images\", exist_ok=True)\n",
    "\n",
    "# Download images\n",
    "with mp.Pool(processes=cpu_count+1) as pool:\n",
    "    status = pool.map(download_image, image_urls)\n",
    "    print(status)\n"
   ]
  }
 ],
 "metadata": {
  "kernelspec": {
   "display_name": "Python 3",
   "language": "python",
   "name": "python3"
  },
  "language_info": {
   "codemirror_mode": {
    "name": "ipython",
    "version": 3
   },
   "file_extension": ".py",
   "mimetype": "text/x-python",
   "name": "python",
   "nbconvert_exporter": "python",
   "pygments_lexer": "ipython3",
   "version": "3.11.9"
  }
 },
 "nbformat": 4,
 "nbformat_minor": 4
}
