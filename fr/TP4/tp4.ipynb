{
 "cells": [
  {
   "cell_type": "markdown",
   "metadata": {},
   "source": [
    "\n",
    "## MapReduce \n",
    "\n",
    "A List of builtin functions are given [here](https://docs.python.org/3/library/functions.html).\n",
    "\n",
    "Three functions\n",
    "1. map()\n",
    "2. filter()\n",
    "3. reduce()\n",
    "\n",
    "\n",
    "## Multiprocessing\n",
    "1. multiprocessing.cpu_count\n",
    "2. multiprocessing.Pool\n",
    "3. map"
   ]
  },
  {
   "cell_type": "code",
   "execution_count": null,
   "metadata": {},
   "outputs": [],
   "source": [
    "# Initialization\n",
    "num = [i for i in range(1,20)]\n",
    "print(num)"
   ]
  },
  {
   "cell_type": "code",
   "execution_count": null,
   "metadata": {},
   "outputs": [],
   "source": [
    "filter?"
   ]
  },
  {
   "cell_type": "markdown",
   "metadata": {},
   "source": [
    "The function `filter(function, iterable)` takes two parameters: a function and an iterable. The function acts on each element of an iterable data type."
   ]
  },
  {
   "cell_type": "markdown",
   "metadata": {},
   "source": [
    "In the first example, we use `None`as the first parameter. In this case, filter will act as an identity function and returns the iterable."
   ]
  },
  {
   "cell_type": "code",
   "execution_count": null,
   "metadata": {},
   "outputs": [],
   "source": [
    "# Use of filter function with None as the first parameter\n",
    "num = [i for i in range(1,20)]\n",
    "filtered = list(filter(None, num))\n",
    "print(filtered)"
   ]
  },
  {
   "cell_type": "code",
   "execution_count": null,
   "metadata": {},
   "outputs": [],
   "source": [
    "def even(item):\n",
    "    if (item % 2 == 0):\n",
    "        return True\n",
    "    return False\n",
    "\n",
    "num = [i for i in range(1,20)]\n",
    "filtered = list(filter(even, num))\n",
    "print(filtered)"
   ]
  },
  {
   "cell_type": "code",
   "execution_count": null,
   "metadata": {},
   "outputs": [],
   "source": [
    "def odd(item):\n",
    "    if (item % 2 == 0):\n",
    "        return False\n",
    "    return True\n",
    "\n",
    "num = [i for i in range(1,20)]\n",
    "filtered = list(filter(odd, num))\n",
    "print(filtered)"
   ]
  },
  {
   "cell_type": "markdown",
   "metadata": {},
   "source": [
    "$f(x) = x ^ 2$\n",
    "\n",
    "$g([a,b,...]) = [f(a), f(b), ..]$\n",
    "\n",
    "$g([a,b,...]) = [a^2, b^2, ..]$"
   ]
  },
  {
   "cell_type": "code",
   "execution_count": null,
   "metadata": {},
   "outputs": [],
   "source": [
    "map?"
   ]
  },
  {
   "cell_type": "markdown",
   "metadata": {},
   "source": [
    "What if we want to apply some calculations on every element of the iterable?\n",
    "\n",
    "Python provides another builtin function called `map(function, iterable, ...)`."
   ]
  },
  {
   "cell_type": "code",
   "execution_count": null,
   "metadata": {},
   "outputs": [],
   "source": [
    "def square(item):\n",
    "    return item * item\n",
    "\n",
    "num = [i for i in range(1,20)]\n",
    "squared = list(map(square, num))\n",
    "print(filtered)"
   ]
  },
  {
   "cell_type": "code",
   "execution_count": null,
   "metadata": {},
   "outputs": [],
   "source": [
    "def product(item1, item2):\n",
    "    return item1 * item2\n",
    "\n",
    "num1 = [i for i in range(1,20)]\n",
    "print(num1)\n",
    "num2 = [i for i in range(10,20)]\n",
    "print(num2)\n",
    "product_value = list(map(product, num1, num2))\n",
    "print(filtered)"
   ]
  },
  {
   "cell_type": "markdown",
   "metadata": {},
   "source": [
    "$f(x) = x ^ 2$\n",
    "\n",
    "$g([a,b,...]) = [f(a), f(b), ..]$\n",
    "\n",
    "$g([a,b,...]) = [a^2, b^2, ..]$\n",
    "\n",
    "$h(g([a,b,...])) = a^2 + b^2+ ... $ "
   ]
  },
  {
   "cell_type": "code",
   "execution_count": null,
   "metadata": {},
   "outputs": [],
   "source": [
    "from functools import reduce\n",
    "\n",
    "reduce?"
   ]
  },
  {
   "cell_type": "code",
   "execution_count": null,
   "metadata": {},
   "outputs": [],
   "source": [
    "from functools import reduce\n",
    "import random\n",
    "\n",
    "def sum_num(item1, item2):\n",
    "    return item1 + item2\n",
    "\n",
    "num = [i for i in range(1,20)]\n",
    "print(num)\n",
    "\n",
    "sum_value = reduce(sum_num, num)\n",
    "print(sum_num)\n",
    "\n",
    "num = [random.uniform(0, i) for i in range(1,20)]\n",
    "sum_value = reduce(sum_num, num)\n",
    "print(sum_value)\n"
   ]
  },
  {
   "cell_type": "code",
   "execution_count": null,
   "metadata": {},
   "outputs": [],
   "source": [
    "from functools import reduce\n",
    "import random\n",
    "\n",
    "def sum_num(item1, item2):\n",
    "    return item1 + item2\n",
    "\n",
    "num = [random.uniform(0, i) for i in range(1,20)]\n",
    "sum_value = reduce(sum_num, num)\n",
    "print(sum_value)"
   ]
  },
  {
   "cell_type": "code",
   "execution_count": null,
   "metadata": {},
   "outputs": [],
   "source": [
    "from functools import reduce\n",
    "\n",
    "def product(item1, item2):\n",
    "    return item1 * item2\n",
    "\n",
    "num = [i for i in range(1,20)]\n",
    "print(num)\n",
    "sum_num = reduce(product, num)\n",
    "print(sum_num)"
   ]
  },
  {
   "cell_type": "code",
   "execution_count": null,
   "metadata": {},
   "outputs": [],
   "source": [
    "def even(item):\n",
    "    if (item % 2 == 0):\n",
    "        return True\n",
    "    return False\n",
    "\n",
    "num = [i for i in range(1,20)]\n",
    "filtered = list(filter(lambda x: x%2 == 0, num))\n",
    "print(filtered)"
   ]
  },
  {
   "cell_type": "code",
   "execution_count": null,
   "metadata": {},
   "outputs": [],
   "source": [
    "def even(item):\n",
    "    if (item % 2 == 0):\n",
    "        return True\n",
    "    return False\n",
    "\n",
    "num = [i for i in range(1,20)]\n",
    "filtered = list(filter(lambda x: x%2 != 0, num))\n",
    "print(filtered)"
   ]
  },
  {
   "cell_type": "code",
   "execution_count": null,
   "metadata": {},
   "outputs": [],
   "source": [
    "num = [i for i in range(1,20)]\n",
    "squared = list(map(lambda x: x *2, num))\n",
    "print(squared)"
   ]
  },
  {
   "cell_type": "code",
   "execution_count": null,
   "metadata": {},
   "outputs": [],
   "source": [
    "num1 = [i for i in range(1,20)]\n",
    "print(num1)\n",
    "num2 = [i for i in range(10,20)]\n",
    "print(num2)\n",
    "product = list(map(lambda x, y: x *y , num1, num2))\n",
    "print(product)"
   ]
  },
  {
   "cell_type": "code",
   "execution_count": null,
   "metadata": {},
   "outputs": [],
   "source": [
    "from functools import reduce\n",
    "import random\n",
    "\n",
    "num = [i for i in range(1,20)]\n",
    "print(num)\n",
    "\n",
    "sum_value = reduce(lambda x,y: x + y, num)\n",
    "print(sum_value)\n"
   ]
  },
  {
   "cell_type": "code",
   "execution_count": null,
   "metadata": {},
   "outputs": [],
   "source": [
    "from functools import reduce\n",
    "import random\n",
    "\n",
    "num = [i for i in range(1,20)]\n",
    "print(num)\n",
    "\n",
    "sum_value = reduce(lambda x,y: x + y, num)\n",
    "print(sum_value)\n"
   ]
  },
  {
   "cell_type": "code",
   "execution_count": null,
   "metadata": {},
   "outputs": [],
   "source": [
    "from functools import reduce\n",
    "import random\n",
    "\n",
    "num = [i for i in range(1,20)]\n",
    "print(num)\n",
    "\n",
    "product_value = reduce(lambda x,y: x * y, num)\n",
    "print(product_value)"
   ]
  },
  {
   "cell_type": "code",
   "execution_count": null,
   "metadata": {},
   "outputs": [],
   "source": [
    "import multiprocessing as mp\n",
    "mp.cpu_count?"
   ]
  },
  {
   "cell_type": "code",
   "execution_count": null,
   "metadata": {},
   "outputs": [],
   "source": [
    "import multiprocessing as mp\n",
    "print(mp.cpu_count())"
   ]
  },
  {
   "cell_type": "code",
   "execution_count": null,
   "metadata": {},
   "outputs": [],
   "source": [
    "import multiprocessing as mp\n",
    "mp.Pool?"
   ]
  },
  {
   "cell_type": "code",
   "execution_count": null,
   "metadata": {},
   "outputs": [],
   "source": [
    "from functools import reduce\n",
    "import multiprocessing as mp\n",
    "\n",
    "cpu_count = mp.cpu_count()\n",
    "\n",
    "def squared(x):\n",
    "    return x * x\n",
    "\n",
    "num = [i for i in range(1,20)]\n",
    "with mp.Pool(processes=cpu_count) as pool:\n",
    "    list_squared = pool.map(squared, num)\n",
    "    print(list_squared)\n",
    "    product_value = reduce(lambda x,y: x * y, list_squared)\n",
    "    print(product_value)"
   ]
  },
  {
   "cell_type": "code",
   "execution_count": null,
   "metadata": {},
   "outputs": [],
   "source": [
    "import requests\n",
    "\n",
    "def download_page(item):\n",
    "    r = requests.get('https://www.wikidata.org/wiki/Special:EntityData/' + item + '.json')\n",
    "    if r.status_code == 200:\n",
    "        with open(item + \".json\", \"w\") as w:\n",
    "            w.write(str(r.json()))\n",
    "        w.close()\n",
    "    return r.status_code\n",
    "\n",
    "pages = [\"Q1\", \"Q2\", \"Q3\", \"Q4\", \"Q5\", \"Q6\"]\n",
    "with mp.Pool(processes=cpu_count) as pool:\n",
    "    status = pool.map(download_page, pages)\n",
    "    print(status)"
   ]
  },
  {
   "cell_type": "code",
   "execution_count": null,
   "metadata": {},
   "outputs": [],
   "source": [
    "import os\n",
    "\n",
    "def analyse_file(filename):\n",
    "    with open(filename, \"r\") as w:\n",
    "        data = w.read()\n",
    "        tokens = data.split(\",\")\n",
    "        urls = list(filter(lambda w: \"wikipedia.org\" in w, tokens))\n",
    "        return len(urls)\n",
    "    return 0\n",
    "\n",
    "files = os.listdir(\".\")\n",
    "json_files = list(filter(lambda f: \".json\" in f, files))\n",
    "\n",
    "with mp.Pool(processes=cpu_count) as pool:\n",
    "    counts = pool.map(analyse_file, json_files)\n",
    "    print(counts)\n",
    "    total_count = reduce(lambda x,y: x + y, counts)\n",
    "    print(total_count)"
   ]
  }
 ],
 "metadata": {
  "kernelspec": {
   "display_name": "Python 3",
   "language": "python",
   "name": "python3"
  },
  "language_info": {
   "codemirror_mode": {
    "name": "ipython",
    "version": 3
   },
   "file_extension": ".py",
   "mimetype": "text/x-python",
   "name": "python",
   "nbconvert_exporter": "python",
   "pygments_lexer": "ipython3",
   "version": "3.8.5"
  }
 },
 "nbformat": 4,
 "nbformat_minor": 4
}
